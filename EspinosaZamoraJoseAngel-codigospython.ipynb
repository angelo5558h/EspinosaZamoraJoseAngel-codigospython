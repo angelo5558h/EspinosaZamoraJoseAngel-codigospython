{
 "cells": [
  {
   "cell_type": "markdown",
   "id": "d7061451",
   "metadata": {},
   "source": [
    "#1"
   ]
  },
  {
   "cell_type": "code",
   "execution_count": 1,
   "id": "d2f4ebf9",
   "metadata": {},
   "outputs": [
    {
     "name": "stdout",
     "output_type": "stream",
     "text": [
      " //\\ \n",
      "//__\\ \n",
      "||  ||\n",
      "||__||\n"
     ]
    }
   ],
   "source": [
    "print(r' //\\ '\"\\n\"r'//__\\ '\"\\n\"\"||  ||\" \"\\n\"\"||__||\")"
   ]
  },
  {
   "cell_type": "markdown",
   "id": "56b4bdb0",
   "metadata": {},
   "source": [
    "#2"
   ]
  },
  {
   "cell_type": "code",
   "execution_count": 39,
   "id": "33f36aaa",
   "metadata": {},
   "outputs": [
    {
     "name": "stdout",
     "output_type": "stream",
     "text": [
      "Escriba los datos que le pída por favor\n",
      "Propocione su nombre: jose pable\n",
      "Propocione su telefono: 456\n",
      "Propocione su correo: asngelo\n",
      "\n",
      "Bienvenido: (a)jose pable!\n",
      "Su telefono es: 456\n",
      "Su email es: asngelo\n"
     ]
    }
   ],
   "source": [
    "print(\"Escriba los datos que le pída por favor\")\n",
    "nombre = input(\"Propocione su nombre: \")\n",
    "telefono = input(\"Propocione su telefono: \")\n",
    "email = input(\"Propocione su correo: \")\n",
    "\n",
    "print(\"Bienvenido\"\"(a\"\"):\" + nombre)\n",
    "print(\"Su telefono es: \" + telefono)\n",
    "print(\"Su email es: \" + email)"
   ]
  },
  {
   "cell_type": "markdown",
   "id": "bbb9dba2",
   "metadata": {},
   "source": [
    "#3"
   ]
  },
  {
   "cell_type": "code",
   "execution_count": 2,
   "id": "f20a2685",
   "metadata": {
    "scrolled": true
   },
   "outputs": [
    {
     "name": "stdout",
     "output_type": "stream",
     "text": [
      "Calculadora de resistencias\n",
      "Escriba el primer valor: 42\n",
      "Escriba el segundo valor: 25\n",
      "Resistencia Total es:  15.671641791044774\n"
     ]
    }
   ],
   "source": [
    "print(\"Calculadora de resistencias\")\n",
    "Ω1 = float(input(\"Escriba el primer valor: \"))\n",
    "Ω2 = float(input(\"Escriba el segundo valor: \"))\n",
    "print(\"Resistencia Total es: \", (1/((1/Ω1)+(1/Ω2))))"
   ]
  },
  {
   "cell_type": "markdown",
   "id": "55794cd4",
   "metadata": {},
   "source": [
    "#4"
   ]
  },
  {
   "cell_type": "code",
   "execution_count": 36,
   "id": "16e76963",
   "metadata": {},
   "outputs": [
    {
     "name": "stdout",
     "output_type": "stream",
     "text": [
      "Ingrese los valores para la matriz\n",
      "X 0, Y 0 : 45\n",
      "X 0, Y 1 : 65\n",
      "X 1, Y 0 : 23\n",
      "X 1, Y 1 : 12\n",
      "(XY)= -955.0\n"
     ]
    }
   ],
   "source": [
    "print(\"Ingrese los valores para la matriz\")\n",
    "matriz = []\n",
    "for a in range(2):\n",
    "    matriz.append([])\n",
    "    for b in range(2):\n",
    "        num = float(input(\"X {}, Y {} : \".format(a,b)))\n",
    "        matriz[a].append(num)\n",
    "print(\"(\"\"X\"\"Y\"\")\"\"=\", (matriz[0][0]* matriz[1][1]) - (matriz[0][1]* matriz[1][0]))"
   ]
  },
  {
   "cell_type": "markdown",
   "id": "8168cf3a",
   "metadata": {},
   "source": [
    "#5"
   ]
  },
  {
   "cell_type": "code",
   "execution_count": 42,
   "id": "cd4ee835",
   "metadata": {},
   "outputs": [
    {
     "name": "stdout",
     "output_type": "stream",
     "text": [
      "Calculadora de ecuaciones mediante la formula generarl\n",
      "Escriba el valor de a: 4\n",
      "Escriba el valor de b: 5\n",
      "Escriba el valor de c: 3\n",
      "No tiene solucion\n"
     ]
    }
   ],
   "source": [
    "import math\n",
    "print (\"Calculadora de ecuaciones mediante la formula generarl\")\n",
    "a = float(input(\"Escriba el valor de a: \"))\n",
    "b = float(input(\"Escriba el valor de b: \"))\n",
    "c = float(input(\"Escriba el valor de c: \"))\n",
    "x = (b**2)-(4*(a*c))\n",
    "if x < 0:\n",
    "    print(\"No tiene solucion\")\n",
    "else:\n",
    "    x1 = (-b + math.sqrt(x)) / (2*a)\n",
    "    x2 = (-b - math.sqrt(x)) / (2*a)\n",
    "    print(\"X1= \", x1) \n",
    "    print(\"X2 = \", x2)"
   ]
  },
  {
   "cell_type": "markdown",
   "id": "11260a2e",
   "metadata": {},
   "source": [
    "#6"
   ]
  },
  {
   "cell_type": "code",
   "execution_count": 4,
   "id": "056cdd41",
   "metadata": {},
   "outputs": [
    {
     "name": "stdout",
     "output_type": "stream",
     "text": [
      "Escriba un numero: 0\n",
      "Escribio el numero 0\n"
     ]
    }
   ],
   "source": [
    "n = int(input(\"Escriba un numero: \"))\n",
    "if n > 0:\n",
    "    r = \"Escribio un numero positivo\"\n",
    "elif n == 0:\n",
    "    r = \"Escribio el numero 0\"\n",
    "else:\n",
    "    r = \"Escribio un numero negativo\"\n",
    "print (r)"
   ]
  },
  {
   "cell_type": "markdown",
   "id": "5814d832",
   "metadata": {},
   "source": [
    "#7"
   ]
  },
  {
   "cell_type": "code",
   "execution_count": 49,
   "id": "82b1f099",
   "metadata": {},
   "outputs": [
    {
     "name": "stdout",
     "output_type": "stream",
     "text": [
      "Prestamos Superlana\n",
      "Escriba su nombre completo: jose \n",
      "Escriba su edad: 21\n",
      "Escriba sus ingresos mensuales: 500\n",
      "Escriba sus egresos mensuales: 200\n",
      "Escriba la cantidad que desea pedir: 800\n",
      "Escriba el numero de mensualidades que le gustaria pagar?: 5\n",
      "Lamentamos decirle que su prestamo no puede proceder\n"
     ]
    }
   ],
   "source": [
    "print (\"Prestamos Superlana\")\n",
    "no = (input(\"Escriba su nombre completo: \"))\n",
    "ed = int(input(\"Escriba su edad: \"))\n",
    "ing = int(input(\"Escriba sus ingresos mensuales: \"))\n",
    "eg = int(input(\"Escriba sus egresos mensuales: \"))\n",
    "pre = int(input(\"Escriba la cantidad que desea pedir: \"))\n",
    "mes = int(input(\"Escriba el numero de mensualidades que le gustaria pagar?: \"))\n",
    "if(ed<18):\n",
    "    print(\"Lamentamos decirle que por cuestiones de edad no podemos tramitar su prestamo\")\n",
    "elif((pre/mes)<(ing-eg)):\n",
    "    print(\"Lamentamos decirle que su prestamo no puede proceder\")\n",
    "else:\n",
    "    print(\"Su prestamo a sido aceptado favor de pasar con uno de nuestros asesores\")"
   ]
  },
  {
   "cell_type": "markdown",
   "id": "21376efd",
   "metadata": {},
   "source": [
    "#8"
   ]
  },
  {
   "cell_type": "code",
   "execution_count": 51,
   "id": "b0c04829",
   "metadata": {},
   "outputs": [
    {
     "name": "stdout",
     "output_type": "stream",
     "text": [
      " * \n",
      " *  * \n",
      " *  *  * \n",
      " *  *  *  * \n",
      " *  *  *  *  * \n",
      " *  *  *  *  * \n",
      " *  *  *  * \n",
      " *  *  * \n",
      " *  * \n",
      " * \n"
     ]
    }
   ],
   "source": [
    "f = ' * '\n",
    "al = 5\n",
    "\n",
    "for a in range (al):\n",
    "    print((f) * (a + 1))\n",
    "\n",
    "for b in range (len(f)):\n",
    "    for b in range (al):\n",
    "        print((f) * al)\n",
    "        al -= 1"
   ]
  },
  {
   "cell_type": "markdown",
   "id": "286d3b71",
   "metadata": {},
   "source": [
    "#9"
   ]
  },
  {
   "cell_type": "code",
   "execution_count": 52,
   "id": "dbafd68a",
   "metadata": {},
   "outputs": [
    {
     "name": "stdout",
     "output_type": "stream",
     "text": [
      "Escribe la palabra deseada: jose jose\n",
      "esoj esoj\n"
     ]
    }
   ],
   "source": [
    "print(input(\"Escribe la palabra deseada: \")[::-1])"
   ]
  },
  {
   "cell_type": "markdown",
   "id": "b2ac9278",
   "metadata": {},
   "source": [
    "#10"
   ]
  },
  {
   "cell_type": "code",
   "execution_count": 7,
   "id": "73a34035",
   "metadata": {},
   "outputs": [
    {
     "name": "stdout",
     "output_type": "stream",
     "text": [
      "[0, 1, 2, 3, 5]\n"
     ]
    }
   ],
   "source": [
    "Numeros = [0, 1, 2, 3, 4, 5, 6]\n",
    "Numeros.pop(4)\n",
    "Numeros.pop()\n",
    "print(Numeros)"
   ]
  },
  {
   "cell_type": "code",
   "execution_count": null,
   "id": "c0f41ac6",
   "metadata": {},
   "outputs": [],
   "source": []
  }
 ],
 "metadata": {
  "kernelspec": {
   "display_name": "Python 3",
   "language": "python",
   "name": "python3"
  },
  "language_info": {
   "codemirror_mode": {
    "name": "ipython",
    "version": 3
   },
   "file_extension": ".py",
   "mimetype": "text/x-python",
   "name": "python",
   "nbconvert_exporter": "python",
   "pygments_lexer": "ipython3",
   "version": "3.8.8"
  }
 },
 "nbformat": 4,
 "nbformat_minor": 5
}
